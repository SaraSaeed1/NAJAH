{
 "cells": [
  {
   "cell_type": "code",
   "execution_count": 1,
   "metadata": {},
   "outputs": [],
   "source": [
    "import pickle\n",
    "import numpy as np\n",
    "filename = 'najah_model.h5'\n",
    "model = pickle.load(open(filename, 'rb'))"
   ]
  },
  {
   "cell_type": "code",
   "execution_count": 2,
   "metadata": {},
   "outputs": [
    {
     "name": "stdout",
     "output_type": "stream",
     "text": [
      "نجح\n",
      "نسبة الفشل: 0.39768918402583664\n",
      "نسبة النجاح: 0.6023108159741634\n"
     ]
    }
   ],
   "source": [
    "result = model.predict(np.array([0,0,0,0,1,1,0,1,1]).reshape(1,-1))\n",
    "prob = model.predict_proba(np.array([0,0,0,0,1,1,0,1,1]).reshape(1,-1))\n",
    "if result == 0:\n",
    "    print('فشل')\n",
    "    print('نسبة الفشل: ' + str(prob[0][0]))\n",
    "    print('نسبة النجاح: ' + str(prob[0][1]))\n",
    "elif result ==1:\n",
    "    print(\"نجح\")\n",
    "    print('نسبة الفشل: ' + str(prob[0][0]))\n",
    "    print('نسبة النجاح: ' + str(prob[0][1]))"
   ]
  }
 ],
 "metadata": {
  "kernelspec": {
   "display_name": "Python 3",
   "language": "python",
   "name": "python3"
  },
  "language_info": {
   "codemirror_mode": {
    "name": "ipython",
    "version": 3
   },
   "file_extension": ".py",
   "mimetype": "text/x-python",
   "name": "python",
   "nbconvert_exporter": "python",
   "pygments_lexer": "ipython3",
   "version": "3.8.5"
  }
 },
 "nbformat": 4,
 "nbformat_minor": 4
}
